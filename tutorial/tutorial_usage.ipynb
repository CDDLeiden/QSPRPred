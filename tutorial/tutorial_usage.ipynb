{
 "cells": [
  {
   "cell_type": "markdown",
   "metadata": {},
   "source": [
    "# Get prediction for molecule with pretrained QSAR model\n",
    "To predict the bioactivity of a molecule for a protein target (in this case the GABA(A) receptor subunit alpha) you need to input the molecule as a SMILES string. In this tutorial we are going to predict the bioactivity of rotenone (SMILES: 'CC(=C)C1CC2=C(O1)C=CC3=C2OC4COC5=CC(=C(C=C5C4C3=O)OC)OC') and flumazenil, a known antagonist (SMILES: 'CCOC(=O)C1=C2CN(C(=O)C3=C(N2C=N1)C=CC(=C3)F)C')  \\\n",
    "In addition to the SMILES you also need to give the path to the pretrained QSAR model parameters (in this case '../qsprmodels/XGB_REG_GABAAalpha.pkg') \\\n",
    "Currently the output is a list with the bioactivity prediction for each molecule"
   ]
  },
  {
   "cell_type": "markdown",
   "metadata": {},
   "source": [
    "## Preparing molecule\n",
    "Before we can predict the bioactivity of a molecule for the GABA(A) receptor we need to calculate it's features"
   ]
  },
  {
   "cell_type": "code",
   "execution_count": 1,
   "metadata": {},
   "outputs": [],
   "source": [
    "from rdkit import Chem\n",
    "from qsprpred.data.utils.descriptorcalculator import DescriptorsCalculator\n",
    "\n",
    "smiles_list = [\n",
    "    'CC(=C)C1CC2=C(O1)C=CC3=C2OC4COC5=CC(=C(C=C5C4C3=O)OC)OC', \n",
    "    'CCOC(=O)C1=C2CN(C(=O)C3=C(N2C=N1)C=CC(=C3)F)C'\n",
    "]\n",
    "\n",
    "mols = [Chem.MolFromSmiles(smiles) for smiles in smiles_list]\n",
    "\n"
   ]
  },
  {
   "cell_type": "markdown",
   "metadata": {},
   "source": [
    "## Loading the trained model\n",
    "In tutorial_usage.ipynb we have trained a XGBoost model for GABA(A) receptor subunit alpha. To use this model we need to load it"
   ]
  },
  {
   "cell_type": "code",
   "execution_count": 2,
   "metadata": {},
   "outputs": [
    {
     "name": "stderr",
     "output_type": "stream",
     "text": [
      "/home/sichom/software/miniconda/envs/qsar/lib/python3.9/site-packages/sklearn/base.py:443: UserWarning: X has feature names, but StandardScaler was fitted without feature names\n",
      "  warnings.warn(\n"
     ]
    },
    {
     "data": {
      "text/plain": [
       "array([6.12361903, 8.5166333 ])"
      ]
     },
     "execution_count": 2,
     "metadata": {},
     "output_type": "execute_result"
    }
   ],
   "source": [
    "import sklearn_json as skljson\n",
    "from qsprpred.scorers.predictor import Predictor\n",
    "from qsprpred.data.utils.feature_standardization import SKLearnStandardizer\n",
    "\n",
    "# give path to saved model parameters\n",
    "path = 'qsprmodels/PLS_REG_GABAAalpha.json'\n",
    "\n",
    "model = skljson.from_json(path)\n",
    "\n",
    "# calculate molecule features (return np.array with fingerprint of molecules)\n",
    "feature_calculator = DescriptorsCalculator.fromFile('qsprmodels/data/tutorial_data_feature_calculators.json')\n",
    "\n",
    "scaler = SKLearnStandardizer.fromFile('qsprmodels/data/tutorial_data_feature_standardizer_0.json')\n",
    "\n",
    "predictor = Predictor(model, feature_calculator, scaler, type='REG', th=None, name=None, modifier=None)\n",
    "predictor.getScores(mols)"
   ]
  },
  {
   "cell_type": "code",
   "execution_count": null,
   "metadata": {},
   "outputs": [],
   "source": []
  }
 ],
 "metadata": {
  "kernelspec": {
   "display_name": "Python 3 (ipykernel)",
   "language": "python",
   "name": "python3"
  },
  "language_info": {
   "codemirror_mode": {
    "name": "ipython",
    "version": 3
   },
   "file_extension": ".py",
   "mimetype": "text/x-python",
   "name": "python",
   "nbconvert_exporter": "python",
   "pygments_lexer": "ipython3",
   "version": "3.9.13"
  },
  "vscode": {
   "interpreter": {
    "hash": "94705a58f524c087a931a9ce6f495e1949dee73c0ce5184db4e9163355ae55e1"
   }
  }
 },
 "nbformat": 4,
 "nbformat_minor": 4
}
