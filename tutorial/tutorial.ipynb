{
 "cells": [
  {
   "cell_type": "markdown",
   "metadata": {},
   "source": [
    "# Creating a QSPR model\n",
    "\n",
    "## Pre-processing your dataset\n",
    "\n",
    "### Converting data into the right format\n",
    "First your dataset needs to be in the right format.\n",
    "It has to have a least a column containing SMILES sequences, as well as a column for each of the properties you want\n",
    "to predict, e.g.\n",
    "\n",
    "| SMILES                             | Clearance | Volume_of_distribution |\n",
    "|------------------------------------|-----------|------------------------|\n",
    "| c1cn(c(=O)nc1N)[C@H]2CO[C@H\\](S2)CO | 3.0       | 1.18                   |\n",
    "| [H]N([H])C1(CC1)C(=O)O[H]          | 1.5       | 0.73                   |\n",
    "| c1c(csc1COc2c3c(nc[nH]3)nc(n2)N)Br | 21.55     | NaN                    |\n",
    "| ...                                | ...       | ...                    |"
   ]
  },
  {
   "cell_type": "code",
   "execution_count": 1,
   "metadata": {},
   "outputs": [
    {
     "data": {
      "text/html": [
       "<div>\n",
       "<style scoped>\n",
       "    .dataframe tbody tr th:only-of-type {\n",
       "        vertical-align: middle;\n",
       "    }\n",
       "\n",
       "    .dataframe tbody tr th {\n",
       "        vertical-align: top;\n",
       "    }\n",
       "\n",
       "    .dataframe thead th {\n",
       "        text-align: right;\n",
       "    }\n",
       "</style>\n",
       "<table border=\"1\" class=\"dataframe\">\n",
       "  <thead>\n",
       "    <tr style=\"text-align: right;\">\n",
       "      <th></th>\n",
       "      <th>Molecule_ChEMBL_ID</th>\n",
       "      <th>Molecule_Name</th>\n",
       "      <th>Molecule_Max_Phase</th>\n",
       "      <th>Molecular_Weight</th>\n",
       "      <th>RO5_Violations</th>\n",
       "      <th>AlogP</th>\n",
       "      <th>Compound_Key</th>\n",
       "      <th>Smiles</th>\n",
       "      <th>Standard_Type</th>\n",
       "      <th>Standard_Relation</th>\n",
       "      <th>...</th>\n",
       "      <th>Target_ChEMBL_ID</th>\n",
       "      <th>Target_Name</th>\n",
       "      <th>Target_Organism</th>\n",
       "      <th>Target_Type</th>\n",
       "      <th>Document_ChEMBL_ID</th>\n",
       "      <th>Source_ID</th>\n",
       "      <th>Source_Description</th>\n",
       "      <th>Document_Journal</th>\n",
       "      <th>Document_Year</th>\n",
       "      <th>Cell_ChEMBL_ID</th>\n",
       "    </tr>\n",
       "  </thead>\n",
       "  <tbody>\n",
       "    <tr>\n",
       "      <th>0</th>\n",
       "      <td>CHEMBL352707</td>\n",
       "      <td>NaN</td>\n",
       "      <td>0</td>\n",
       "      <td>485.34</td>\n",
       "      <td>1.0</td>\n",
       "      <td>5.48</td>\n",
       "      <td>36</td>\n",
       "      <td>CCCCn1cc2c(nc(NC(=O)Nc3ccc(Cl)c(Cl)c3)n3nc(-c4...</td>\n",
       "      <td>Ki</td>\n",
       "      <td>=</td>\n",
       "      <td>...</td>\n",
       "      <td>CHEMBL256</td>\n",
       "      <td>Adenosine A3 receptor</td>\n",
       "      <td>Homo sapiens</td>\n",
       "      <td>SINGLE PROTEIN</td>\n",
       "      <td>CHEMBL1770052</td>\n",
       "      <td>1</td>\n",
       "      <td>Scientific Literature</td>\n",
       "      <td>Bioorg. Med. Chem. Lett.</td>\n",
       "      <td>2011.0</td>\n",
       "      <td>NaN</td>\n",
       "    </tr>\n",
       "    <tr>\n",
       "      <th>1</th>\n",
       "      <td>CHEMBL541455</td>\n",
       "      <td>NaN</td>\n",
       "      <td>0</td>\n",
       "      <td>463.50</td>\n",
       "      <td>0.0</td>\n",
       "      <td>4.16</td>\n",
       "      <td>42</td>\n",
       "      <td>O=C(Cc1ccccc1)Nc1nc2nn(CCc3ccccc3)cc2c2nc(-c3c...</td>\n",
       "      <td>Ki</td>\n",
       "      <td>=</td>\n",
       "      <td>...</td>\n",
       "      <td>CHEMBL256</td>\n",
       "      <td>Adenosine A3 receptor</td>\n",
       "      <td>Homo sapiens</td>\n",
       "      <td>SINGLE PROTEIN</td>\n",
       "      <td>CHEMBL1770052</td>\n",
       "      <td>1</td>\n",
       "      <td>Scientific Literature</td>\n",
       "      <td>Bioorg. Med. Chem. Lett.</td>\n",
       "      <td>2011.0</td>\n",
       "      <td>NaN</td>\n",
       "    </tr>\n",
       "    <tr>\n",
       "      <th>2</th>\n",
       "      <td>CHEMBL341777</td>\n",
       "      <td>NaN</td>\n",
       "      <td>0</td>\n",
       "      <td>479.50</td>\n",
       "      <td>0.0</td>\n",
       "      <td>3.99</td>\n",
       "      <td>43</td>\n",
       "      <td>O=C(COc1ccccc1)Nc1nc2nn(CCc3ccccc3)cc2c2nc(-c3...</td>\n",
       "      <td>Ki</td>\n",
       "      <td>=</td>\n",
       "      <td>...</td>\n",
       "      <td>CHEMBL256</td>\n",
       "      <td>Adenosine A3 receptor</td>\n",
       "      <td>Homo sapiens</td>\n",
       "      <td>SINGLE PROTEIN</td>\n",
       "      <td>CHEMBL1770052</td>\n",
       "      <td>1</td>\n",
       "      <td>Scientific Literature</td>\n",
       "      <td>Bioorg. Med. Chem. Lett.</td>\n",
       "      <td>2011.0</td>\n",
       "      <td>NaN</td>\n",
       "    </tr>\n",
       "    <tr>\n",
       "      <th>3</th>\n",
       "      <td>CHEMBL177524</td>\n",
       "      <td>NaN</td>\n",
       "      <td>0</td>\n",
       "      <td>458.53</td>\n",
       "      <td>0.0</td>\n",
       "      <td>4.29</td>\n",
       "      <td>53</td>\n",
       "      <td>CC(C)(C)NC(=O)Nc1nc2nn(CCCc3ccccc3)cc2c2nc(-c3...</td>\n",
       "      <td>Ki</td>\n",
       "      <td>=</td>\n",
       "      <td>...</td>\n",
       "      <td>CHEMBL256</td>\n",
       "      <td>Adenosine A3 receptor</td>\n",
       "      <td>Homo sapiens</td>\n",
       "      <td>SINGLE PROTEIN</td>\n",
       "      <td>CHEMBL1770052</td>\n",
       "      <td>1</td>\n",
       "      <td>Scientific Literature</td>\n",
       "      <td>Bioorg. Med. Chem. Lett.</td>\n",
       "      <td>2011.0</td>\n",
       "      <td>NaN</td>\n",
       "    </tr>\n",
       "    <tr>\n",
       "      <th>4</th>\n",
       "      <td>CHEMBL105913</td>\n",
       "      <td>NaN</td>\n",
       "      <td>0</td>\n",
       "      <td>290.33</td>\n",
       "      <td>0.0</td>\n",
       "      <td>3.16</td>\n",
       "      <td>73</td>\n",
       "      <td>COc1ccc(-n2cc3c(n2)c(N)nc2ccccc23)cc1</td>\n",
       "      <td>Ki</td>\n",
       "      <td>=</td>\n",
       "      <td>...</td>\n",
       "      <td>CHEMBL256</td>\n",
       "      <td>Adenosine A3 receptor</td>\n",
       "      <td>Homo sapiens</td>\n",
       "      <td>SINGLE PROTEIN</td>\n",
       "      <td>CHEMBL1770052</td>\n",
       "      <td>1</td>\n",
       "      <td>Scientific Literature</td>\n",
       "      <td>Bioorg. Med. Chem. Lett.</td>\n",
       "      <td>2011.0</td>\n",
       "      <td>NaN</td>\n",
       "    </tr>\n",
       "  </tbody>\n",
       "</table>\n",
       "<p>5 rows × 41 columns</p>\n",
       "</div>"
      ],
      "text/plain": [
       "  Molecule_ChEMBL_ID Molecule_Name  Molecule_Max_Phase  Molecular_Weight  \\\n",
       "0       CHEMBL352707           NaN                   0            485.34   \n",
       "1       CHEMBL541455           NaN                   0            463.50   \n",
       "2       CHEMBL341777           NaN                   0            479.50   \n",
       "3       CHEMBL177524           NaN                   0            458.53   \n",
       "4       CHEMBL105913           NaN                   0            290.33   \n",
       "\n",
       "   RO5_Violations  AlogP Compound_Key  \\\n",
       "0             1.0   5.48           36   \n",
       "1             0.0   4.16           42   \n",
       "2             0.0   3.99           43   \n",
       "3             0.0   4.29           53   \n",
       "4             0.0   3.16           73   \n",
       "\n",
       "                                              Smiles Standard_Type  \\\n",
       "0  CCCCn1cc2c(nc(NC(=O)Nc3ccc(Cl)c(Cl)c3)n3nc(-c4...            Ki   \n",
       "1  O=C(Cc1ccccc1)Nc1nc2nn(CCc3ccccc3)cc2c2nc(-c3c...            Ki   \n",
       "2  O=C(COc1ccccc1)Nc1nc2nn(CCc3ccccc3)cc2c2nc(-c3...            Ki   \n",
       "3  CC(C)(C)NC(=O)Nc1nc2nn(CCCc3ccccc3)cc2c2nc(-c3...            Ki   \n",
       "4              COc1ccc(-n2cc3c(n2)c(N)nc2ccccc23)cc1            Ki   \n",
       "\n",
       "  Standard_Relation  ...  Target_ChEMBL_ID            Target_Name  \\\n",
       "0                 =  ...         CHEMBL256  Adenosine A3 receptor   \n",
       "1                 =  ...         CHEMBL256  Adenosine A3 receptor   \n",
       "2                 =  ...         CHEMBL256  Adenosine A3 receptor   \n",
       "3                 =  ...         CHEMBL256  Adenosine A3 receptor   \n",
       "4                 =  ...         CHEMBL256  Adenosine A3 receptor   \n",
       "\n",
       "   Target_Organism     Target_Type Document_ChEMBL_ID Source_ID  \\\n",
       "0     Homo sapiens  SINGLE PROTEIN      CHEMBL1770052         1   \n",
       "1     Homo sapiens  SINGLE PROTEIN      CHEMBL1770052         1   \n",
       "2     Homo sapiens  SINGLE PROTEIN      CHEMBL1770052         1   \n",
       "3     Homo sapiens  SINGLE PROTEIN      CHEMBL1770052         1   \n",
       "4     Homo sapiens  SINGLE PROTEIN      CHEMBL1770052         1   \n",
       "\n",
       "      Source_Description          Document_Journal  Document_Year  \\\n",
       "0  Scientific Literature  Bioorg. Med. Chem. Lett.         2011.0   \n",
       "1  Scientific Literature  Bioorg. Med. Chem. Lett.         2011.0   \n",
       "2  Scientific Literature  Bioorg. Med. Chem. Lett.         2011.0   \n",
       "3  Scientific Literature  Bioorg. Med. Chem. Lett.         2011.0   \n",
       "4  Scientific Literature  Bioorg. Med. Chem. Lett.         2011.0   \n",
       "\n",
       "   Cell_ChEMBL_ID  \n",
       "0             NaN  \n",
       "1             NaN  \n",
       "2             NaN  \n",
       "3             NaN  \n",
       "4             NaN  \n",
       "\n",
       "[5 rows x 41 columns]"
      ]
     },
     "metadata": {},
     "output_type": "display_data"
    },
    {
     "data": {
      "text/plain": [
       "(500, 41)"
      ]
     },
     "metadata": {},
     "output_type": "display_data"
    },
    {
     "name": "stdout",
     "output_type": "stream",
     "text": [
      "CHEMBL226     114\n",
      "CHEMBL251      98\n",
      "CHEMBL256      94\n",
      "CHEMBL318      90\n",
      "CHEMBL302      58\n",
      "CHEMBL255      39\n",
      "CHEMBL3360      5\n",
      "CHEMBL2592      2\n",
      "Name: Target_ChEMBL_ID, dtype: int64\n"
     ]
    },
    {
     "data": {
      "text/html": [
       "<div>\n",
       "<style scoped>\n",
       "    .dataframe tbody tr th:only-of-type {\n",
       "        vertical-align: middle;\n",
       "    }\n",
       "\n",
       "    .dataframe tbody tr th {\n",
       "        vertical-align: top;\n",
       "    }\n",
       "\n",
       "    .dataframe thead th {\n",
       "        text-align: right;\n",
       "    }\n",
       "</style>\n",
       "<table border=\"1\" class=\"dataframe\">\n",
       "  <thead>\n",
       "    <tr style=\"text-align: right;\">\n",
       "      <th>Target_ChEMBL_ID</th>\n",
       "      <th>Smiles</th>\n",
       "      <th>Molecular_Weight</th>\n",
       "      <th>CHEMBL226</th>\n",
       "      <th>CHEMBL251</th>\n",
       "      <th>CHEMBL255</th>\n",
       "      <th>CHEMBL256</th>\n",
       "      <th>CHEMBL2592</th>\n",
       "      <th>CHEMBL302</th>\n",
       "      <th>CHEMBL318</th>\n",
       "      <th>CHEMBL3360</th>\n",
       "    </tr>\n",
       "  </thead>\n",
       "  <tbody>\n",
       "    <tr>\n",
       "      <th>0</th>\n",
       "      <td>C#CCn1c(=O)[nH]c2[nH]c(-c3cccs3)nc2c1=O</td>\n",
       "      <td>272.29</td>\n",
       "      <td>NaN</td>\n",
       "      <td>NaN</td>\n",
       "      <td>NaN</td>\n",
       "      <td>NaN</td>\n",
       "      <td>NaN</td>\n",
       "      <td>NaN</td>\n",
       "      <td>6.92</td>\n",
       "      <td>NaN</td>\n",
       "    </tr>\n",
       "    <tr>\n",
       "      <th>1</th>\n",
       "      <td>C#CCn1c(=O)n(C)c(=O)c2c1ncn2C</td>\n",
       "      <td>218.22</td>\n",
       "      <td>NaN</td>\n",
       "      <td>NaN</td>\n",
       "      <td>5.02</td>\n",
       "      <td>NaN</td>\n",
       "      <td>NaN</td>\n",
       "      <td>NaN</td>\n",
       "      <td>NaN</td>\n",
       "      <td>NaN</td>\n",
       "    </tr>\n",
       "    <tr>\n",
       "      <th>2</th>\n",
       "      <td>C#CCn1cnc2c1c(=O)n(C)c(=O)n2C</td>\n",
       "      <td>218.22</td>\n",
       "      <td>NaN</td>\n",
       "      <td>NaN</td>\n",
       "      <td>5.02</td>\n",
       "      <td>NaN</td>\n",
       "      <td>NaN</td>\n",
       "      <td>NaN</td>\n",
       "      <td>NaN</td>\n",
       "      <td>NaN</td>\n",
       "    </tr>\n",
       "    <tr>\n",
       "      <th>3</th>\n",
       "      <td>C/N=c1\\nc(-c2ccccc2)n(-c2cccc(C)c2)s1</td>\n",
       "      <td>281.38</td>\n",
       "      <td>6.19</td>\n",
       "      <td>NaN</td>\n",
       "      <td>NaN</td>\n",
       "      <td>NaN</td>\n",
       "      <td>NaN</td>\n",
       "      <td>NaN</td>\n",
       "      <td>NaN</td>\n",
       "      <td>NaN</td>\n",
       "    </tr>\n",
       "    <tr>\n",
       "      <th>4</th>\n",
       "      <td>C=CCN1C(=O)N2CC(C)N=C2c2[nH]c(-c3cc(C)n(C)n3)nc21</td>\n",
       "      <td>325.38</td>\n",
       "      <td>NaN</td>\n",
       "      <td>NaN</td>\n",
       "      <td>NaN</td>\n",
       "      <td>7.86</td>\n",
       "      <td>NaN</td>\n",
       "      <td>NaN</td>\n",
       "      <td>NaN</td>\n",
       "      <td>NaN</td>\n",
       "    </tr>\n",
       "  </tbody>\n",
       "</table>\n",
       "</div>"
      ],
      "text/plain": [
       "Target_ChEMBL_ID                                             Smiles  \\\n",
       "0                           C#CCn1c(=O)[nH]c2[nH]c(-c3cccs3)nc2c1=O   \n",
       "1                                     C#CCn1c(=O)n(C)c(=O)c2c1ncn2C   \n",
       "2                                     C#CCn1cnc2c1c(=O)n(C)c(=O)n2C   \n",
       "3                             C/N=c1\\nc(-c2ccccc2)n(-c2cccc(C)c2)s1   \n",
       "4                 C=CCN1C(=O)N2CC(C)N=C2c2[nH]c(-c3cc(C)n(C)n3)nc21   \n",
       "\n",
       "Target_ChEMBL_ID  Molecular_Weight  CHEMBL226  CHEMBL251  CHEMBL255  \\\n",
       "0                           272.29        NaN        NaN        NaN   \n",
       "1                           218.22        NaN        NaN       5.02   \n",
       "2                           218.22        NaN        NaN       5.02   \n",
       "3                           281.38       6.19        NaN        NaN   \n",
       "4                           325.38        NaN        NaN        NaN   \n",
       "\n",
       "Target_ChEMBL_ID  CHEMBL256  CHEMBL2592  CHEMBL302  CHEMBL318  CHEMBL3360  \n",
       "0                       NaN         NaN        NaN       6.92         NaN  \n",
       "1                       NaN         NaN        NaN        NaN         NaN  \n",
       "2                       NaN         NaN        NaN        NaN         NaN  \n",
       "3                       NaN         NaN        NaN        NaN         NaN  \n",
       "4                      7.86         NaN        NaN        NaN         NaN  "
      ]
     },
     "metadata": {},
     "output_type": "display_data"
    },
    {
     "data": {
      "text/plain": [
       "(244, 10)"
      ]
     },
     "metadata": {},
     "output_type": "display_data"
    }
   ],
   "source": [
    "import pandas as pd\n",
    "import numpy as np\n",
    "from IPython.display import display\n",
    "\n",
    "# Load in the data\n",
    "df = pd.read_csv('jupyter/data/LIGAND_RAW_small.tsv', sep='\\t')\n",
    "display(df.head(5))\n",
    "display(df.shape)\n",
    "\n",
    "smiles_col = 'Smiles'\n",
    "activity_col = 'pChEMBL_Value'\n",
    "target_col = 'Target_ChEMBL_ID'\n",
    "\n",
    "# print number of samples per target\n",
    "print(df[target_col].value_counts())\n",
    "\n",
    "# Get data in correct format and taking the mean if multiple activatie values per smiles\n",
    "df = df.pivot_table(index=[smiles_col, 'Molecular_Weight'], columns=target_col, values=activity_col, aggfunc=np.mean).reset_index()\n",
    "display(df.head(5))\n",
    "display(df.shape)"
   ]
  },
  {
   "cell_type": "markdown",
   "metadata": {},
   "source": [
    "### Preparing the data for modelling with QSPRpred\n",
    "\n",
    "We will built a regression model for the Adenosine A1 receptor (CHEMBL226).\n",
    "Therefore, we initialize our QSPRdataset as regression for \"CHEMBL226\".\n",
    "After this we need to do some processing of the data.\n",
    "We need to calculate features, split our dataset into a train and test set.\n",
    "In this example, we will also remove features with a low variance or high correlation to other features.\n"
   ]
  },
  {
   "cell_type": "code",
   "execution_count": 3,
   "metadata": {},
   "outputs": [
    {
     "name": "stdout",
     "output_type": "stream",
     "text": [
      "Number of samples train set: 38\n",
      "Number of samples test set: 7\n"
     ]
    }
   ],
   "source": [
    "import os\n",
    "from qsprpred.data.data import QSPRDataset\n",
    "from qsprpred.data.utils.descriptors import MorganFP\n",
    "from qsprpred.data.utils.descriptorcalculator import descriptorsCalculator\n",
    "from qsprpred.data.utils.datasplitters import randomsplit\n",
    "from qsprpred.data.utils.featurefilters import lowVarianceFilter, highCorrelationFilter\n",
    "\n",
    "# intialize the dataset\n",
    "dataset = QSPRDataset(df=df, smilescol=smiles_col, property=\"CHEMBL226\", reg=True)\n",
    "\n",
    "# Calculate MorganFP and physicochemical properties\n",
    "feature_calculators  = descriptorsCalculator([MorganFP(3, 1000)])\n",
    "\n",
    "# Do a random split for creating the train (85%) and test set (15%)\n",
    "rand_split = randomsplit(0.15)\n",
    "\n",
    "# Remove features that have a low variance (<0.05) in the trainingset\n",
    "lv = lowVarianceFilter(0.05)\n",
    "\n",
    "# Remove features that have a high correlation (>0.9) in the trainingset\n",
    "hc = highCorrelationFilter(0.9)\n",
    "\n",
    "# create folder to save models\n",
    "os.mkdir('jupyter/qsprmodels')\n",
    "\n",
    "dataset.prepareDataset('jupyter/qsprmodels/CHEMBL226_REG.json',\n",
    "                    split=rand_split,\n",
    "                    feature_calculators=feature_calculators,\n",
    "                    featurefilters=[lv, hc])\n",
    "\n",
    "print(f\"Number of samples train set: {len(dataset.y)}\")\n",
    "print(f\"Number of samples test set: {len(dataset.y_ind)}\")\n",
    "\n",
    "# Finally we will standardize our data\n",
    "dataset.X, dataset.X_ind = dataset.dataStandardization(dataset.X, dataset.X_ind)"
   ]
  },
  {
   "cell_type": "markdown",
   "metadata": {},
   "source": [
    "## Training the QSPR model\n",
    "\n",
    "After preparing our dataset, we will train a QSPR regression model.\n",
    "In this tutorial we will train a Naive Bayes model as it is quick to train, but there are other model types\n",
    "available."
   ]
  },
  {
   "cell_type": "code",
   "execution_count": 4,
   "metadata": {},
   "outputs": [
    {
     "name": "stderr",
     "output_type": "stream",
     "text": [
      "\u001b[32m[I 2022-11-02 11:19:19,491]\u001b[0m A new study created in memory with name: no-name-d400cd5c-9815-4a5a-ace5-acb007a1075e\u001b[0m\n"
     ]
    },
    {
     "name": "stdout",
     "output_type": "stream",
     "text": [
      "Bayesian optimization can take a while for some hyperparameter combinations\n",
      "{'n_components': 15, 'scale': False}\n"
     ]
    },
    {
     "name": "stderr",
     "output_type": "stream",
     "text": [
      "\u001b[32m[I 2022-11-02 11:19:19,896]\u001b[0m Trial 0 finished with value: -0.06535072432868505 and parameters: {'n_components': 15, 'scale': False}. Best is trial 0 with value: -0.06535072432868505.\u001b[0m\n"
     ]
    },
    {
     "name": "stdout",
     "output_type": "stream",
     "text": [
      "{'n_components': 14, 'scale': False}\n"
     ]
    },
    {
     "name": "stderr",
     "output_type": "stream",
     "text": [
      "\u001b[32m[I 2022-11-02 11:19:20,355]\u001b[0m Trial 1 finished with value: -0.06531165193075483 and parameters: {'n_components': 14, 'scale': False}. Best is trial 1 with value: -0.06531165193075483.\u001b[0m\n"
     ]
    },
    {
     "name": "stdout",
     "output_type": "stream",
     "text": [
      "{'n_components': 15, 'scale': False}\n"
     ]
    },
    {
     "name": "stderr",
     "output_type": "stream",
     "text": [
      "\u001b[32m[I 2022-11-02 11:19:20,668]\u001b[0m Trial 2 finished with value: -0.06535072432868505 and parameters: {'n_components': 15, 'scale': False}. Best is trial 1 with value: -0.06531165193075483.\u001b[0m\n"
     ]
    },
    {
     "name": "stdout",
     "output_type": "stream",
     "text": [
      "{'n_components': 14, 'scale': False}\n"
     ]
    },
    {
     "name": "stderr",
     "output_type": "stream",
     "text": [
      "\u001b[32m[I 2022-11-02 11:19:21,033]\u001b[0m Trial 3 finished with value: -0.06531165193075483 and parameters: {'n_components': 14, 'scale': False}. Best is trial 1 with value: -0.06531165193075483.\u001b[0m\n",
      "\u001b[32m[I 2022-11-02 11:19:21,192]\u001b[0m Trial 4 finished with value: -0.09800443178815499 and parameters: {'n_components': 8, 'scale': True}. Best is trial 1 with value: -0.06531165193075483.\u001b[0m\n"
     ]
    },
    {
     "name": "stdout",
     "output_type": "stream",
     "text": [
      "{'n_components': 8, 'scale': True}\n"
     ]
    }
   ],
   "source": [
    "from sklearn.cross_decomposition import PLSRegression\n",
    "from qsprpred.models.models import QSPRsklearn\n",
    "\n",
    "# This is an SKlearn model, so we will initialize it with the QSPRsklearn class\n",
    "PLSmodel = QSPRsklearn(base_dir = 'jupyter/',\n",
    "                        data=dataset, alg = PLSRegression(), alg_name='PLS', n_jobs=3)\n",
    "\n",
    "# We will first optimize the hyperparameters (n_components and scale) through bayes optimization\n",
    "search_space_bs = {\"n_components\": [\"int\", 1, 20], \"scale\": [\"categorical\", [True, False]]}\n",
    "PLSmodel.bayesOptimization(search_space_bs=search_space_bs, n_trials=5)\n",
    "\n",
    "#Then we will evaluate the model performance using cross-validation\n",
    "_ = PLSmodel.evaluate()\n",
    "\n",
    "# Finally, we need to fit the model on the complete dataset if we want to use it further\n",
    "PLSmodel.fit()\n"
   ]
  },
  {
   "cell_type": "markdown",
   "metadata": {},
   "source": [
    "## Evaluating the results\n",
    "\n",
    "Plotting the results of the cross-validation, we can see that our model is not performing very well.\n",
    "This is to be expected as we only used a very small example dataset."
   ]
  },
  {
   "cell_type": "code",
   "execution_count": 27,
   "metadata": {},
   "outputs": [
    {
     "name": "stdout",
     "output_type": "stream",
     "text": [
      "PLS Cross Validation:  :(R^2=-0.04, RMSE=1.14)\n",
      "PLS Independent Test::(R^2=-0.11, RMSE=1.08)\n"
     ]
    },
    {
     "data": {
      "image/png": "[encoded data removed]",
      "text/plain": [
       "<Figure size 360x360 with 1 Axes>"
      ]
     },
     "metadata": {
      "needs_background": "light"
     },
     "output_type": "display_data"
    }
   ],
   "source": [
    "from matplotlib import pyplot as plt\n",
    "from sklearn import metrics\n",
    "\n",
    "def QSPR_REG_scatterplot(infolder, targets, models, out=None):\n",
    "    \"\"\"\n",
    "    Function to plot the results of regression models. Plot predicted pX vs real pX. \n",
    "    \"\"\"\n",
    "    my_cmap = [\"#9EBA2E\", \"#F46E32\"]\n",
    "\n",
    "    plt.figure(figsize=(5, 5))\n",
    "    for i, target in enumerate(targets):\n",
    "        cate = ['cv', 'ind']\n",
    "        for m, model in enumerate(models):\n",
    "            plt.subplot(len(targets),len(models),1 + i*len(models) + m)\n",
    "            for j, legend in enumerate(['Cross Validation:  ', 'Independent Test:']):\n",
    "                df = pd.read_table('%s/%s_REG_%s.%s.tsv' % (infolder, model, target, cate[j]))\n",
    "                plt.scatter(df.Label, df.Score, s=5, label=legend, color=my_cmap[j])\n",
    "                coef = metrics.r2_score(df.Label, df.Score)\n",
    "                rmse = metrics.mean_squared_error(df.Label, df.Score, squared=False)\n",
    "                print('%s %s:(R^2=%.2f, RMSE=%.2f)' % (model, legend,coef,rmse))\n",
    "\n",
    "            plt.title('%s %s' % (model,target))\n",
    "            plt.xlabel(f\"Real log {target}\")\n",
    "            plt.ylabel(f\"Predicted log {target}\")\n",
    "            plt.plot([5, 10], [5, 10], lw=2, linestyle='--')\n",
    "    plt.legend(loc='lower right')\n",
    "    plt.tight_layout()\n",
    "    plt.subplots_adjust(wspace = 0.3, hspace = 0.5) \n",
    "    if out is None:\n",
    "        plt.show()\n",
    "    else:\n",
    "        plt.savefig(out, dpi=300)\n",
    "\n",
    "QSPR_REG_scatterplot(f\"jupyter/qsprmodels/\",\n",
    "                     [\"CHEMBL226\"], \n",
    "                     [\"PLS\"],\n",
    "                      out=\"jupyter/QSPR_REG_scatterplot.png\")"
   ]
  }
 ],
 "metadata": {
  "kernelspec": {
   "display_name": "Python 3.10.6 ('qspr')",
   "language": "python",
   "name": "python3"
  },
  "language_info": {
   "codemirror_mode": {
    "name": "ipython",
    "version": 3
   },
   "file_extension": ".py",
   "mimetype": "text/x-python",
   "name": "python",
   "nbconvert_exporter": "python",
   "pygments_lexer": "ipython3",
   "version": "3.10.6"
  },
  "orig_nbformat": 4,
  "vscode": {
   "interpreter": {
    "hash": "eb304cfc50cf47add265a24de432bf9165bd65c807f1caa6895b51873f6e21ac"
   }
  }
 },
 "nbformat": 4,
 "nbformat_minor": 2
}
