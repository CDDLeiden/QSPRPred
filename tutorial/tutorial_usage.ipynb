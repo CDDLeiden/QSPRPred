{
 "cells": [
  {
   "cell_type": "markdown",
   "metadata": {},
   "source": [
    "# Get prediction for molecule with pretrained QSAR model\n",
    "To predict the bioactivity of a molecule for a protein target (in this case the GABA(A) receptor subunit alpha) you need to input the molecule as a SMILES string. In this tutorial we are going to predict the bioactivity of rotenone (SMILES: 'CC(=C)C1CC2=C(O1)C=CC3=C2OC4COC5=CC(=C(C=C5C4C3=O)OC)OC') and flumazenil, a known antagonist (SMILES: 'CCOC(=O)C1=C2CN(C(=O)C3=C(N2C=N1)C=CC(=C3)F)C')  \\\n",
    "In addition to the SMILES you also need to give the path to the pretrained QSAR model parameters (in this case '../qsprmodels/XGB_REG_GABAAalpha.pkg') \\\n",
    "Currently the output is a list with the bioactivity prediction for each molecule"
   ]
  },
  {
   "cell_type": "markdown",
   "metadata": {},
   "source": [
    "## Preparing molecule\n",
    "Before we can predict the bioactivity of a molecule for the GABA(A) receptor we need to calculate it's features"
   ]
  },
  {
   "cell_type": "code",
   "execution_count": 1,
   "metadata": {},
   "outputs": [],
   "source": [
    "from rdkit import Chem\n",
    "from qsprpred.data.utils.descriptorcalculator import DescriptorsCalculator\n",
    "\n",
    "smiles_list = [\n",
    "    'CC(=C)C1CC2=C(O1)C=CC3=C2OC4COC5=CC(=C(C=C5C4C3=O)OC)OC', \n",
    "    'CCOC(=O)C1=C2CN(C(=O)C3=C(N2C=N1)C=CC(=C3)F)C'\n",
    "]\n",
    "\n",
    "mols = [Chem.MolFromSmiles(smiles) for smiles in smiles_list]\n"
   ]
  },
  {
   "cell_type": "markdown",
   "metadata": {},
   "source": [
    "## Loading the trained model\n",
    "In tutorial_usage.ipynb we have trained a XGBoost model for GABA(A) receptor subunit alpha. To use this model we need to load it"
   ]
  },
  {
   "cell_type": "code",
   "execution_count": 2,
   "metadata": {},
   "outputs": [
    {
     "name": "stderr",
     "output_type": "stream",
     "text": [
      "c:\\Users\\helle\\anaconda3\\envs\\qspr\\lib\\site-packages\\sklearn\\base.py:402: UserWarning: X has feature names, but StandardScaler was fitted without feature names\n",
      "  warnings.warn(\n"
     ]
    },
    {
     "data": {
      "text/plain": [
       "array([5.60787054, 8.05417694])"
      ]
     },
     "execution_count": 2,
     "metadata": {},
     "output_type": "execute_result"
    }
   ],
   "source": [
    "from qsprpred.scorers.predictor import Predictor\n",
    "\n",
    "# give path to saved model parameters\n",
    "model_path = 'qspr/models/PLS_REG_GABAAalpha.json'\n",
    "\n",
    "# give path to saved data parameters\n",
    "metadata_path = 'qspr/data/tutorial_data_meta.json'\n",
    "\n",
    "# calculate molecule features (return np.array with fingerprint of molecules)\n",
    "\n",
    "predictor = Predictor.fromFile(model_path, metadata_path)\n",
    "predictor.getScores(mols)"
   ]
  }
 ],
 "metadata": {
  "kernelspec": {
   "display_name": "qspr",
   "language": "python",
   "name": "python3"
  },
  "language_info": {
   "codemirror_mode": {
    "name": "ipython",
    "version": 3
   },
   "file_extension": ".py",
   "mimetype": "text/x-python",
   "name": "python",
   "nbconvert_exporter": "python",
   "pygments_lexer": "ipython3",
   "version": "3.10.8"
  },
  "vscode": {
   "interpreter": {
    "hash": "a53e87de9226d96c0fbd6bac73931b98aab9d7ae611bf68a59376a14387ad6b8"
   }
  }
 },
 "nbformat": 4,
 "nbformat_minor": 4
}
