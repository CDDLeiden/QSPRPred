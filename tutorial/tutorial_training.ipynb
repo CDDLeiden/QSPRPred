{
 "cells": [
  {
   "cell_type": "markdown",
   "metadata": {},
   "source": [
    "# Creating a QSPR model\n",
    "\n",
    "## Pre-processing your dataset\n",
    "\n",
    "### Converting data into the right format\n",
    "First your dataset needs to be in the right format.\n",
    "It has to have a least a column containing SMILES sequences, as well as a column for each of the properties you want\n",
    "to predict, e.g.\n",
    "\n",
    "| SMILES                             | Bioactivity | \n",
    "|------------------------------------|-----------|\n",
    "| c1cn(c(=O)nc1N)[C@H]2CO[C@H\\](S2)CO | 7.0       | \n",
    "| [H]N([H])C1(CC1)C(=O)O[H]          | 4.5       | \n",
    "| c1c(csc1COc2c3c(nc[nH]3)nc(n2)N)Br | 12.55     |\n",
    "| ...                                | ...       | "
   ]
  },
  {
   "cell_type": "code",
   "execution_count": 1,
   "metadata": {},
   "outputs": [
    {
     "name": "stdout",
     "output_type": "stream",
     "text": [
      "GABAAalpha    6280\n",
      "NMDA          4073\n",
      "P41594        2730\n",
      "Q13255         975\n",
      "Q14643          12\n",
      "Name: accession, dtype: int64\n"
     ]
    },
    {
     "data": {
      "text/html": [
       "<div>\n",
       "<style scoped>\n",
       "    .dataframe tbody tr th:only-of-type {\n",
       "        vertical-align: middle;\n",
       "    }\n",
       "\n",
       "    .dataframe tbody tr th {\n",
       "        vertical-align: top;\n",
       "    }\n",
       "\n",
       "    .dataframe thead th {\n",
       "        text-align: right;\n",
       "    }\n",
       "</style>\n",
       "<table border=\"1\" class=\"dataframe\">\n",
       "  <thead>\n",
       "    <tr style=\"text-align: right;\">\n",
       "      <th>accession</th>\n",
       "      <th>SMILES</th>\n",
       "      <th>GABAAalpha</th>\n",
       "      <th>NMDA</th>\n",
       "      <th>P41594</th>\n",
       "      <th>Q13255</th>\n",
       "      <th>Q14643</th>\n",
       "    </tr>\n",
       "  </thead>\n",
       "  <tbody>\n",
       "    <tr>\n",
       "      <th>0</th>\n",
       "      <td>Brc1cc(-c2nc(-c3ncccc3)no2)ccc1</td>\n",
       "      <td>NaN</td>\n",
       "      <td>NaN</td>\n",
       "      <td>6.93</td>\n",
       "      <td>NaN</td>\n",
       "      <td>NaN</td>\n",
       "    </tr>\n",
       "    <tr>\n",
       "      <th>1</th>\n",
       "      <td>Brc1ccc2c(c1)-c1ncnn1Cc1c(-c3cccs3)ncn-21</td>\n",
       "      <td>8.400000</td>\n",
       "      <td>NaN</td>\n",
       "      <td>NaN</td>\n",
       "      <td>NaN</td>\n",
       "      <td>NaN</td>\n",
       "    </tr>\n",
       "    <tr>\n",
       "      <th>2</th>\n",
       "      <td>Brc1ccc2c(c1)-c1nncn1Cc1c(I)ncn-21</td>\n",
       "      <td>8.110000</td>\n",
       "      <td>NaN</td>\n",
       "      <td>NaN</td>\n",
       "      <td>NaN</td>\n",
       "      <td>NaN</td>\n",
       "    </tr>\n",
       "    <tr>\n",
       "      <th>3</th>\n",
       "      <td>Brc1cccc(-c2cc(-c3ccccc3)nnc2)c1</td>\n",
       "      <td>8.013333</td>\n",
       "      <td>NaN</td>\n",
       "      <td>NaN</td>\n",
       "      <td>NaN</td>\n",
       "      <td>NaN</td>\n",
       "    </tr>\n",
       "    <tr>\n",
       "      <th>4</th>\n",
       "      <td>Brc1cccc(-c2cnnc(NCc3ccccc3)c2)c1</td>\n",
       "      <td>7.505000</td>\n",
       "      <td>NaN</td>\n",
       "      <td>NaN</td>\n",
       "      <td>NaN</td>\n",
       "      <td>NaN</td>\n",
       "    </tr>\n",
       "  </tbody>\n",
       "</table>\n",
       "</div>"
      ],
      "text/plain": [
       "accession                                     SMILES  GABAAalpha  NMDA  \\\n",
       "0                    Brc1cc(-c2nc(-c3ncccc3)no2)ccc1         NaN   NaN   \n",
       "1          Brc1ccc2c(c1)-c1ncnn1Cc1c(-c3cccs3)ncn-21    8.400000   NaN   \n",
       "2                 Brc1ccc2c(c1)-c1nncn1Cc1c(I)ncn-21    8.110000   NaN   \n",
       "3                   Brc1cccc(-c2cc(-c3ccccc3)nnc2)c1    8.013333   NaN   \n",
       "4                  Brc1cccc(-c2cnnc(NCc3ccccc3)c2)c1    7.505000   NaN   \n",
       "\n",
       "accession  P41594  Q13255  Q14643  \n",
       "0            6.93     NaN     NaN  \n",
       "1             NaN     NaN     NaN  \n",
       "2             NaN     NaN     NaN  \n",
       "3             NaN     NaN     NaN  \n",
       "4             NaN     NaN     NaN  "
      ]
     },
     "metadata": {},
     "output_type": "display_data"
    },
    {
     "data": {
      "text/plain": [
       "(6225, 6)"
      ]
     },
     "metadata": {},
     "output_type": "display_data"
    }
   ],
   "source": [
    "import pandas as pd\n",
    "import numpy as np\n",
    "from IPython.display import display\n",
    "\n",
    "# Load in the data\n",
    "df = pd.read_csv('data/parkinsons_dp_original.csv', sep=',')\n",
    "\n",
    "smiles_col = 'SMILES'\n",
    "activity_col = 'pchembl_value_Mean'\n",
    "target_col = 'accession'\n",
    "\n",
    "# combine uniprot accessions of same protein\n",
    "df = df.loc[df['accession'].isin(['P14867', 'P31644', 'P34903', 'P47869', 'P48169', 'Q16445', 'O15399', 'O60391', 'Q05586', 'Q12879', 'Q13224', 'Q14957', 'Q8TCU5', 'Q14643', 'P41594', 'Q13255'])]\n",
    "df.loc[df['accession'].isin(['P14867', 'P31644', 'P34903', 'P47869', 'P48169', 'Q16445']), 'accession'] = 'GABAAalpha'\n",
    "df.loc[df['accession'].isin(['O15399', 'O60391', 'Q05586', 'Q12879', 'Q13224', 'Q14957', 'Q8TCU5']), 'accession'] = 'NMDA'\n",
    "\n",
    "# drop columns without pchembl value\n",
    "df = df.dropna(subset=['pchembl_value_Mean'])\n",
    "\n",
    "# print number of samples per target\n",
    "print(df[target_col].value_counts())\n",
    "\n",
    "# Get data in correct format and taking the mean if multiple activatie values per smiles\n",
    "df = df.pivot_table(index=[smiles_col], columns=[target_col], values=activity_col, aggfunc=np.mean).reset_index()\n",
    "df.to_csv('data/parkinsons_pivot.tsv', sep='\\t', index=False)\n",
    "display(df.head(5))\n",
    "display(df.shape)"
   ]
  },
  {
   "cell_type": "markdown",
   "metadata": {},
   "source": [
    "### Preparing the data for modelling with QSPRpred\n",
    "\n",
    "We will built a regression model for the GABA(A) receptor subunit alpha (GABAAalpha).\n",
    "Therefore, we initialize our QSPRdataset as regression for \"GABAAalpha\".\n",
    "After this we need to do some processing of the data.\n",
    "We need to calculate compound features, split our dataset into a train and test set."
   ]
  },
  {
   "cell_type": "code",
   "execution_count": 2,
   "metadata": {},
   "outputs": [
    {
     "name": "stdout",
     "output_type": "stream",
     "text": [
      "Number of samples train set: 1742\n",
      "Number of samples test set: 308\n"
     ]
    }
   ],
   "source": [
    "import os\n",
    "from qsprpred.data.data import QSPRDataset\n",
    "from qsprpred.data.utils.descriptorsets import MorganFP\n",
    "from qsprpred.data.utils.descriptorcalculator import descriptorsCalculator\n",
    "from sklearn.preprocessing import StandardScaler as Scaler\n",
    "from qsprpred.data.utils.datasplitters import randomsplit\n",
    "\n",
    "# intialize the dataset\n",
    "dataset = QSPRDataset(df=df, smilescol=smiles_col, property=\"GABAAalpha\", reg=True)\n",
    "\n",
    "# create folder to save models\n",
    "if not os.path.isdir('qspr/data'):\n",
    "    os.makedirs('qspr/data')\n",
    "if not os.path.isdir('qspr/models'):\n",
    "    os.mkdir('qspr/models')\n",
    "\n",
    "# Calculate MorganFP and physicochemical properties\n",
    "feature_calculators = descriptorsCalculator(descsets = [MorganFP(3, 2048)])\n",
    "feature_calculators.toFile(fname='qspr/data/REG_GABAAalpha_DescCalc.json')\n",
    "\n",
    "# Do a random split for creating the train (85%) and test set (15%)\n",
    "rand_split = randomsplit(0.15)\n",
    "\n",
    "\n",
    "# calculate compound features and split dataset into train and test\n",
    "dataset.prepareDataset(f\"qspr/data/REG_GABAAalpha_DescCalc.json\",\n",
    "                    split=rand_split,\n",
    "                    feature_calculators=feature_calculators,\n",
    "                    feature_standardizers=[Scaler()]\n",
    ")\n",
    "\n",
    "print(f\"Number of samples train set: {len(dataset.y)}\")\n",
    "print(f\"Number of samples test set: {len(dataset.y_ind)}\")"
   ]
  },
  {
   "cell_type": "markdown",
   "metadata": {},
   "source": [
    "## Training the QSPR model\n",
    "\n",
    "After preparing our dataset, we will train a QSPR regression model.\n",
    "In this tutorial we will train a XGBoost model as it generally performs well, but there are other model types\n",
    "available. Most machine learning models have tunable hyperparameters (for example depth & learning rate), as some hyperparameter combinations will lead to better performance on a task we perform hyperparameter optimization (in which different combinations are tested and evaluated on a subset of the training data). After finding good hyperparameters a model will be trained on the training data & evaluated on the test data. In addition to this the final model will be trained on all data"
   ]
  },
  {
   "cell_type": "code",
   "execution_count": 3,
   "metadata": {},
   "outputs": [
    {
     "name": "stderr",
     "output_type": "stream",
     "text": [
      "\u001b[32m[I 2022-12-02 12:16:17,954]\u001b[0m A new study created in memory with name: no-name-47938089-b53f-4354-8b50-0d919724ad00\u001b[0m\n"
     ]
    },
    {
     "name": "stdout",
     "output_type": "stream",
     "text": [
      "Bayesian optimization can take a while for some hyperparameter combinations\n",
      "{'n_components': 13, 'scale': True}\n"
     ]
    },
    {
     "name": "stderr",
     "output_type": "stream",
     "text": [
      "\u001b[32m[I 2022-12-02 12:16:20,396]\u001b[0m Trial 0 finished with value: 0.5238808597904221 and parameters: {'n_components': 13, 'scale': True}. Best is trial 0 with value: 0.5238808597904221.\u001b[0m\n"
     ]
    },
    {
     "name": "stdout",
     "output_type": "stream",
     "text": [
      "{'n_components': 12, 'scale': False}\n"
     ]
    },
    {
     "name": "stderr",
     "output_type": "stream",
     "text": [
      "\u001b[32m[I 2022-12-02 12:16:22,442]\u001b[0m Trial 1 finished with value: 0.541759348826355 and parameters: {'n_components': 12, 'scale': False}. Best is trial 1 with value: 0.541759348826355.\u001b[0m\n"
     ]
    },
    {
     "name": "stdout",
     "output_type": "stream",
     "text": [
      "{'n_components': 2, 'scale': True}\n"
     ]
    },
    {
     "name": "stderr",
     "output_type": "stream",
     "text": [
      "\u001b[32m[I 2022-12-02 12:16:23,235]\u001b[0m Trial 2 finished with value: 0.5728059021848219 and parameters: {'n_components': 2, 'scale': True}. Best is trial 2 with value: 0.5728059021848219.\u001b[0m\n"
     ]
    },
    {
     "name": "stdout",
     "output_type": "stream",
     "text": [
      "{'n_components': 1, 'scale': True}\n"
     ]
    },
    {
     "name": "stderr",
     "output_type": "stream",
     "text": [
      "\u001b[32m[I 2022-12-02 12:16:23,877]\u001b[0m Trial 3 finished with value: 0.4389680832693724 and parameters: {'n_components': 1, 'scale': True}. Best is trial 2 with value: 0.5728059021848219.\u001b[0m\n"
     ]
    },
    {
     "name": "stdout",
     "output_type": "stream",
     "text": [
      "{'n_components': 12, 'scale': True}\n"
     ]
    },
    {
     "name": "stderr",
     "output_type": "stream",
     "text": [
      "\u001b[32m[I 2022-12-02 12:16:25,984]\u001b[0m Trial 4 finished with value: 0.5417593488263552 and parameters: {'n_components': 12, 'scale': True}. Best is trial 2 with value: 0.5728059021848219.\u001b[0m\n"
     ]
    }
   ],
   "source": [
    "from qsprpred.models.models import QSPRsklearn\n",
    "from sklearn.cross_decomposition import PLSRegression\n",
    "\n",
    "# This is an SKlearn model, so we will initialize it with the QSPRsklearn class\n",
    "model = QSPRsklearn(base_dir = '.',\n",
    "                        data=dataset, alg = PLSRegression(), alg_name='PLS', n_jobs=3)\n",
    "\n",
    "# We will first optimize the hyperparameters (n_components and scale) through bayes optimization\n",
    "# the best hyperparameter combination will be saved in PLS_REG_GABAAalpha_params.json\n",
    "search_space_bs = {\"n_components\": [\"int\", 1, 20], \"scale\": [\"categorical\", [True, False]]}\n",
    "model.bayesOptimization(search_space_bs=search_space_bs, n_trials=5)\n",
    "\n",
    "#Then we will evaluate the performance of the best model using the independent test set\n",
    "_ = model.evaluate()\n",
    "\n",
    "# Finally, we need to fit the model on the complete dataset if we want to use it further\n",
    "# model is saved under qsprmodels/PLS_REG_GABAAalpha.json\n",
    "model.fit()\n"
   ]
  },
  {
   "cell_type": "markdown",
   "metadata": {},
   "source": [
    "## Evaluating the results\n",
    "\n",
    "Plotting the results of our model on the test set we can see that it is performing well."
   ]
  },
  {
   "cell_type": "code",
   "execution_count": 4,
   "metadata": {},
   "outputs": [
    {
     "name": "stdout",
     "output_type": "stream",
     "text": [
      "PLS Cross Validation:  :(R^2=0.57, RMSE=0.89)\n",
      "PLS Independent Test::(R^2=0.65, RMSE=0.82)\n"
     ]
    },
    {
     "data": {
      "image/png": "[encoded data removed]",
      "text/plain": [
       "<Figure size 500x500 with 1 Axes>"
      ]
     },
     "metadata": {},
     "output_type": "display_data"
    }
   ],
   "source": [
    "from matplotlib import pyplot as plt\n",
    "from sklearn import metrics\n",
    "\n",
    "def QSPR_REG_scatterplot(infolder, targets, models, out=None):\n",
    "    \"\"\"\n",
    "    Function to plot the results of regression models. Plot predicted pX vs real pX. \n",
    "    \"\"\"\n",
    "    my_cmap = [\"#12517B\", \"#88002A\"]\n",
    "\n",
    "    plt.figure(figsize=(5, 5))\n",
    "    for i, target in enumerate(targets):\n",
    "        cate = ['cv', 'ind']\n",
    "        for m, model in enumerate(models):\n",
    "            plt.subplot(len(targets),len(models),1 + i*len(models) + m)\n",
    "            for j, legend in enumerate(['Cross Validation:  ', 'Independent Test:']):\n",
    "                df = pd.read_table('%s/%s_REG_%s.%s.tsv' % (infolder, model, target, cate[j]))\n",
    "                plt.scatter(df.Label, df.Score, s=5, label=legend, color=my_cmap[j])\n",
    "                coef = metrics.r2_score(df.Label, df.Score)\n",
    "                rmse = metrics.mean_squared_error(df.Label, df.Score, squared=False)\n",
    "                print('%s %s:(R^2=%.2f, RMSE=%.2f)' % (model, legend,coef,rmse))\n",
    "\n",
    "            plt.title('%s %s' % (model,target))\n",
    "            plt.xlabel(f\"Real {target}\")\n",
    "            plt.ylabel(f\"Predicted {target}\")\n",
    "            plt.plot([3, 10], [3, 10], lw=2, linestyle='--', color='black')\n",
    "    plt.legend(loc='lower right')\n",
    "    plt.tight_layout()\n",
    "    plt.subplots_adjust(wspace = 0.3, hspace = 0.5) \n",
    "    if out is None:\n",
    "        plt.show()\n",
    "    else:\n",
    "        plt.savefig(out, dpi=300)\n",
    "\n",
    "# create folder for figures\n",
    "if not os.path.isdir('figures'):\n",
    "    os.mkdir('figures')\n",
    "\n",
    "QSPR_REG_scatterplot(f\"qspr/models\",\n",
    "                     [\"GABAAalpha\"], \n",
    "                     [\"PLS\"],\n",
    "                      out=\"figures/qsprmodels_GABAAalpha.png\")"
   ]
  }
 ],
 "metadata": {
  "kernelspec": {
   "display_name": "Python 3.9.15 ('qspr')",
   "language": "python",
   "name": "python3"
  },
  "language_info": {
   "codemirror_mode": {
    "name": "ipython",
    "version": 3
   },
   "file_extension": ".py",
   "mimetype": "text/x-python",
   "name": "python",
   "nbconvert_exporter": "python",
   "pygments_lexer": "ipython3",
   "version": "3.9.15"
  },
  "orig_nbformat": 4,
  "vscode": {
   "interpreter": {
    "hash": "eb304cfc50cf47add265a24de432bf9165bd65c807f1caa6895b51873f6e21ac"
   }
  }
 },
 "nbformat": 4,
 "nbformat_minor": 2
}
